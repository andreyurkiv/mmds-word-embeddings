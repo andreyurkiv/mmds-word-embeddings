{
 "cells": [
  {
   "cell_type": "code",
   "execution_count": 1,
   "metadata": {},
   "outputs": [],
   "source": [
    "import gensim\n",
    "from pyspark.ml.feature import Tokenizer, StopWordsRemover, Word2Vec, Word2VecModel\n",
    "\n",
    "from pyspark import SparkConf, SparkContext\n",
    "from pyspark.sql import SparkSession\n",
    "from pyspark.sql.functions import *\n",
    "from pyspark.sql.types import *\n",
    "\n",
    "import numpy as np"
   ]
  },
  {
   "cell_type": "code",
   "execution_count": 2,
   "metadata": {},
   "outputs": [],
   "source": [
    "PATH = './data/'\n",
    "# spark = SparkSession.builder.master(\"local\").appName(\"WikiParse\").getOrCreate()\n",
    "conf = SparkConf().setAppName(\"App\")\n",
    "conf = (conf.setMaster('local[*]')\n",
    "        .set('spark.executor.memory', '4G')\n",
    "        .set('spark.driver.memory', '45G')\n",
    "        .set('spark.driver.maxResultSize', '10G'))\n",
    "sc = SparkContext(conf=conf)"
   ]
  },
  {
   "cell_type": "markdown",
   "metadata": {},
   "source": [
    "### Save pyspark Word2Vec model to gensim format"
   ]
  },
  {
   "cell_type": "code",
   "execution_count": 3,
   "metadata": {},
   "outputs": [],
   "source": [
    "def save_model(w2v_model, file_name):\n",
    "    vectors = w2v_model.getVectors()\n",
    "    size = len(vectors.first()['vector'])\n",
    "    amount = vectors.count()\n",
    "\n",
    "    vectors_collection = vectors.collect()\n",
    "\n",
    "    f = open(file_name, 'w')\n",
    "\n",
    "    f.write('{} {}\\n'.format(amount, size))\n",
    "\n",
    "    for row in vectors_collection:\n",
    "        vec_str = ' '.join([ str(np.round(x, 5)) for x in row['vector']])\n",
    "        f.write(row['word'] + ' ' + vec_str + '\\n')\n",
    "\n",
    "    f.close()\n",
    "\n",
    "\n",
    "custom_models = dict()"
   ]
  },
  {
   "cell_type": "code",
   "execution_count": 4,
   "metadata": {},
   "outputs": [],
   "source": [
    "def save_model_for_gensim(n):\n",
    "    custom_model = Word2VecModel.load(PATH + \"/w2v/word2vec_{}\".format(n))\n",
    "    print('Loaded Word2VecModel: {}'.format(n))\n",
    "    save_model(custom_model, PATH + 'custom.embeddings.{}'.format(n))\n",
    "    print('Saved: {}'.format(n))\n"
   ]
  },
  {
   "cell_type": "code",
   "execution_count": 6,
   "metadata": {},
   "outputs": [],
   "source": [
    "# save_model_for_gensim(15)"
   ]
  },
  {
   "cell_type": "markdown",
   "metadata": {},
   "source": [
    "### Read model by gensim"
   ]
  },
  {
   "cell_type": "code",
   "execution_count": 7,
   "metadata": {},
   "outputs": [
    {
     "name": "stderr",
     "output_type": "stream",
     "text": [
      "/home/serhii/anaconda3/lib/python3.7/site-packages/smart_open/smart_open_lib.py:398: UserWarning: This function is deprecated, use smart_open.open instead. See the migration notes for details: https://github.com/RaRe-Technologies/smart_open/blob/master/README.rst#migrating-to-the-new-open-function\n",
      "  'See the migration notes for details: %s' % _MIGRATION_NOTES_URL\n"
     ]
    }
   ],
   "source": [
    "eta_model = gensim.models.KeyedVectors.load_word2vec_format(PATH+\\\n",
    "                                                            'ubercorpus.lowercased.tokenized.word2vec.300d.bz2')"
   ]
  },
  {
   "cell_type": "code",
   "execution_count": 8,
   "metadata": {},
   "outputs": [],
   "source": [
    "w2v_model_nums = [1,3,5,7,9,11,15]"
   ]
  },
  {
   "cell_type": "code",
   "execution_count": 9,
   "metadata": {},
   "outputs": [
    {
     "name": "stderr",
     "output_type": "stream",
     "text": [
      "/home/serhii/anaconda3/lib/python3.7/site-packages/smart_open/smart_open_lib.py:398: UserWarning: This function is deprecated, use smart_open.open instead. See the migration notes for details: https://github.com/RaRe-Technologies/smart_open/blob/master/README.rst#migrating-to-the-new-open-function\n",
      "  'See the migration notes for details: %s' % _MIGRATION_NOTES_URL\n"
     ]
    },
    {
     "name": "stdout",
     "output_type": "stream",
     "text": [
      "Loaded Gensim: 1\n",
      "Loaded Gensim: 3\n",
      "Loaded Gensim: 5\n",
      "Loaded Gensim: 7\n",
      "Loaded Gensim: 9\n",
      "Loaded Gensim: 11\n",
      "Loaded Gensim: 15\n"
     ]
    }
   ],
   "source": [
    "for load in w2v_model_nums:\n",
    "    custom_model = gensim.models.KeyedVectors.load_word2vec_format(PATH + 'custom.embeddings.{}'.format(load))\n",
    "    print('Loaded Gensim: {}'.format(load))\n",
    "    custom_models[load] = custom_model"
   ]
  },
  {
   "cell_type": "markdown",
   "metadata": {},
   "source": [
    "### Evaluate models"
   ]
  },
  {
   "cell_type": "code",
   "execution_count": 10,
   "metadata": {},
   "outputs": [
    {
     "name": "stdout",
     "output_type": "stream",
     "text": [
      "1 (0.2482, 2685, 10817, 23982)\n",
      "3 (0.3348, 4173, 12463, 23982)\n",
      "5 (0.3366, 4223, 12545, 23982)\n",
      "7 (0.3426, 4454, 13001, 23982)\n",
      "9 (0.3503, 4648, 13268, 23982)\n",
      "11 (0.3536, 4767, 13483, 23982)\n",
      "15 (0.3698, 5169, 13978, 23982)\n"
     ]
    }
   ],
   "source": [
    "def test_model(model, num = 1000):\n",
    "    \n",
    "    total_num = 0\n",
    "    counter = 0\n",
    "    \n",
    "    start = 21000    \n",
    "    s = 2000\n",
    "\n",
    "    with open(PATH + 'test_vocabulary.txt') as f:\n",
    "        lines = f.readlines()\n",
    "        \n",
    "#         test_arr = lines[s:s+num] + lines[start:]\n",
    "        test_arr = lines\n",
    "\n",
    "        for line in test_arr:\n",
    "            test_words = line[:-1].lower().split('\\t')\n",
    "            if test_words[0][0] == ':':\n",
    "                continue\n",
    "\n",
    "            w1, w2, w3, w4 = tuple(test_words)\n",
    "\n",
    "            if w1 in model and w2 in model and w3 in model and w4 in model:\n",
    "                \n",
    "                total_num += 1\n",
    "\n",
    "                result = model.most_similar(positive=[w1, w4], negative=[w3])\n",
    "\n",
    "                for r in result:\n",
    "                    if r[0] == w2:\n",
    "                        counter += 1\n",
    "                        break\n",
    "                    \n",
    "    return np.round(counter / total_num, 4), counter, total_num, len(test_arr)\n",
    "\n",
    "acc_result = []\n",
    "\n",
    "for test in w2v_model_nums:\n",
    "    print(test, test_model(custom_models[test]))\n",
    "    acc_result.append((test, test_model(custom_models[test])))"
   ]
  },
  {
   "cell_type": "code",
   "execution_count": 11,
   "metadata": {},
   "outputs": [
    {
     "data": {
      "text/plain": [
       "(0.4927, 7772, 15773, 23982)"
      ]
     },
     "execution_count": 11,
     "metadata": {},
     "output_type": "execute_result"
    }
   ],
   "source": [
    "acc_eta = test_model(eta_model)\n",
    "acc_eta"
   ]
  },
  {
   "cell_type": "markdown",
   "metadata": {},
   "source": [
    "### Plot results"
   ]
  },
  {
   "cell_type": "code",
   "execution_count": 24,
   "metadata": {},
   "outputs": [
    {
     "name": "stderr",
     "output_type": "stream",
     "text": [
      "/home/serhii/anaconda3/lib/python3.7/site-packages/ipykernel_launcher.py:14: DeprecationWarning: Call to deprecated `wv` (Attribute will be removed in 4.0.0, use self instead).\n",
      "  \n",
      "/home/serhii/anaconda3/lib/python3.7/site-packages/ipykernel_launcher.py:23: DeprecationWarning: Call to deprecated `wv` (Attribute will be removed in 4.0.0, use self instead).\n"
     ]
    }
   ],
   "source": [
    "g_data = {\n",
    "    'models': [],\n",
    "    'acc': [],\n",
    "    'color': [],\n",
    "    'vocab_size': [],\n",
    "    'missed_words': []\n",
    "}\n",
    "\n",
    "m_counter = 1\n",
    "\n",
    "for acc in acc_result:\n",
    "    g_data['models'].append(m_counter)\n",
    "    g_data['acc'].append(acc[1][0])\n",
    "    g_data['vocab_size'].append(len(custom_models[acc[0]].wv.vocab))\n",
    "    g_data['missed_words'].append( acc[1][3] - acc[1][2] )\n",
    "    \n",
    "    g_data['color'].append('#0000FF')\n",
    "    m_counter+=1\n",
    "    \n",
    "g_data['acc'].append(acc_eta[0])\n",
    "g_data['models'].append(m_counter)\n",
    "g_data['color'].append('#FF0000')\n",
    "g_data['vocab_size'].append(len(eta_model.wv.vocab))\n",
    "g_data['missed_words'].append(acc_eta[3] - acc_eta[2])"
   ]
  },
  {
   "cell_type": "code",
   "execution_count": 13,
   "metadata": {},
   "outputs": [],
   "source": [
    "import matplotlib.pyplot as plt\n",
    "from matplotlib.pyplot import figure"
   ]
  },
  {
   "cell_type": "code",
   "execution_count": 27,
   "metadata": {},
   "outputs": [],
   "source": [
    "def plot_result(field, title, xlabel, ylabel):\n",
    "    plt.figure(figsize=(10,10))\n",
    "    plt.vlines(g_data['models'], ymin =0, ymax = g_data[field])\n",
    "    plt.scatter(g_data['models'], g_data[field], color=g_data['color'], s=100)\n",
    "\n",
    "    xticks = [str(w2v_m) + '0k' for w2v_m in w2v_model_nums]\n",
    "    xticks.append('lang-ua')\n",
    "\n",
    "    plt.xticks(g_data['models'], xticks)\n",
    "\n",
    "    plt.title(title)\n",
    "\n",
    "    plt.ylabel(ylabel)\n",
    "\n",
    "    plt.xlabel(xlabel)\n",
    "\n",
    "    plt.show()\n",
    "    "
   ]
  },
  {
   "cell_type": "markdown",
   "metadata": {},
   "source": [
    "### Model accuracy depending on the number of articles"
   ]
  },
  {
   "cell_type": "code",
   "execution_count": 28,
   "metadata": {},
   "outputs": [
    {
     "data": {
      "image/png": "[encoded data removed]",
      "text/plain": [
       "<matplotlib.figure.Figure at 0x7f7c53b23240>"
      ]
     },
     "metadata": {},
     "output_type": "display_data"
    }
   ],
   "source": [
    "plot_result(\n",
    "    'acc',\n",
    "    'Model accuracy depending on the number of articles',\n",
    "    'Number of articles',\n",
    "    'Accuracy'\n",
    ")"
   ]
  },
  {
   "cell_type": "markdown",
   "metadata": {},
   "source": [
    "### Model vocabulary size"
   ]
  },
  {
   "cell_type": "code",
   "execution_count": 30,
   "metadata": {},
   "outputs": [
    {
     "data": {
      "image/png": "[encoded data removed]",
      "text/plain": [
       "<matplotlib.figure.Figure at 0x7f7c53a632b0>"
      ]
     },
     "metadata": {},
     "output_type": "display_data"
    }
   ],
   "source": [
    "plot_result(\n",
    "    'vocab_size',\n",
    "    'Model vocabulary size',\n",
    "    'Number of articles',\n",
    "    'Vocabulary size'\n",
    ")"
   ]
  },
  {
   "cell_type": "markdown",
   "metadata": {},
   "source": [
    "### Model word absence"
   ]
  },
  {
   "cell_type": "code",
   "execution_count": 31,
   "metadata": {},
   "outputs": [
    {
     "data": {
      "image/png": "[encoded data removed]",
      "text/plain": [
       "<matplotlib.figure.Figure at 0x7f7c539fcf98>"
      ]
     },
     "metadata": {},
     "output_type": "display_data"
    }
   ],
   "source": [
    "plot_result(\n",
    "    'missed_words',\n",
    "    'Model word absence',\n",
    "    'Number missed words',\n",
    "    'Missed words number'\n",
    ")"
   ]
  }
 ],
 "metadata": {
  "kernelspec": {
   "display_name": "Python 3",
   "language": "python",
   "name": "python3"
  },
  "language_info": {
   "codemirror_mode": {
    "name": "ipython",
    "version": 3
   },
   "file_extension": ".py",
   "mimetype": "text/x-python",
   "name": "python",
   "nbconvert_exporter": "python",
   "pygments_lexer": "ipython3",
   "version": "3.7.1"
  }
 },
 "nbformat": 4,
 "nbformat_minor": 2
}
