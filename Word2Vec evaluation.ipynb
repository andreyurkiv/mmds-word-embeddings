{
 "cells": [
  {
   "cell_type": "code",
   "execution_count": 1,
   "metadata": {},
   "outputs": [],
   "source": [
    "import gensim\n",
    "from pyspark.ml.feature import Tokenizer, StopWordsRemover, Word2Vec, Word2VecModel\n",
    "\n",
    "from pyspark import SparkConf, SparkContext\n",
    "from pyspark.sql import SparkSession\n",
    "from pyspark.sql.functions import *\n",
    "from pyspark.sql.types import *\n",
    "\n",
    "import numpy as np"
   ]
  },
  {
   "cell_type": "code",
   "execution_count": 2,
   "metadata": {},
   "outputs": [],
   "source": [
    "PATH = './data/'\n",
    "# spark = SparkSession.builder.master(\"local\").appName(\"WikiParse\").getOrCreate()\n",
    "conf = SparkConf().setAppName(\"App\")\n",
    "conf = (conf.setMaster('local[*]')\n",
    "        .set('spark.executor.memory', '4G')\n",
    "        .set('spark.driver.memory', '45G')\n",
    "        .set('spark.driver.maxResultSize', '10G'))\n",
    "sc = SparkContext(conf=conf)"
   ]
  },
  {
   "cell_type": "code",
   "execution_count": 3,
   "metadata": {},
   "outputs": [],
   "source": [
    "def save_model(w2v_model, file_name):\n",
    "    vectors = w2v_model.getVectors()\n",
    "    size = len(vectors.first()['vector'])\n",
    "    amount = vectors.count()\n",
    "\n",
    "    vectors_collection = vectors.collect()\n",
    "\n",
    "    f = open(file_name, 'w')\n",
    "\n",
    "    f.write('{} {}\\n'.format(amount, size))\n",
    "\n",
    "    for row in vectors_collection:\n",
    "        vec_str = ' '.join([ str(np.round(x, 5)) for x in row['vector']])\n",
    "        f.write(row['word'] + ' ' + vec_str + '\\n')\n",
    "\n",
    "    f.close()\n",
    "    \n",
    "# save_model(custom_model, PATH + 'custom.embeddings.{}'.format(n))\n",
    "\n",
    "custom_models = dict()"
   ]
  },
  {
   "cell_type": "code",
   "execution_count": 16,
   "metadata": {},
   "outputs": [
    {
     "name": "stdout",
     "output_type": "stream",
     "text": [
      "Loaded Word2VecModel: 11\n",
      "Saved: 11\n"
     ]
    }
   ],
   "source": [
    "# n = 11\n",
    "\n",
    "# custom_model = Word2VecModel.load(PATH + \"/w2v/word2vec_{}\".format(n))\n",
    "# print('Loaded Word2VecModel: {}'.format(n))\n",
    "# save_model(custom_model, PATH + 'custom.embeddings.{}'.format(n))\n",
    "# print('Saved: {}'.format(n))\n",
    "\n",
    "# custom_model = gensim.models.KeyedVectors.load_word2vec_format(PATH + 'custom.embeddings.{}'.format(n))\n",
    "# print('Loaded Gensim: {}'.format(n))\n",
    "# custom_models[n] = custom_model"
   ]
  },
  {
   "cell_type": "code",
   "execution_count": 10,
   "metadata": {},
   "outputs": [
    {
     "name": "stderr",
     "output_type": "stream",
     "text": [
      "/home/serhii/anaconda3/lib/python3.7/site-packages/smart_open/smart_open_lib.py:398: UserWarning: This function is deprecated, use smart_open.open instead. See the migration notes for details: https://github.com/RaRe-Technologies/smart_open/blob/master/README.rst#migrating-to-the-new-open-function\n",
      "  'See the migration notes for details: %s' % _MIGRATION_NOTES_URL\n"
     ]
    }
   ],
   "source": [
    "eta_model = gensim.models.KeyedVectors.load_word2vec_format(PATH+\\\n",
    "                                                            'ubercorpus.lowercased.tokenized.word2vec.300d.bz2')"
   ]
  },
  {
   "cell_type": "code",
   "execution_count": 4,
   "metadata": {},
   "outputs": [
    {
     "name": "stderr",
     "output_type": "stream",
     "text": [
      "/home/serhii/anaconda3/lib/python3.7/site-packages/smart_open/smart_open_lib.py:398: UserWarning: This function is deprecated, use smart_open.open instead. See the migration notes for details: https://github.com/RaRe-Technologies/smart_open/blob/master/README.rst#migrating-to-the-new-open-function\n",
      "  'See the migration notes for details: %s' % _MIGRATION_NOTES_URL\n"
     ]
    },
    {
     "name": "stdout",
     "output_type": "stream",
     "text": [
      "Loaded Gensim: 1\n",
      "Loaded Gensim: 3\n",
      "Loaded Gensim: 5\n",
      "Loaded Gensim: 7\n",
      "Loaded Gensim: 9\n",
      "Loaded Gensim: 11\n"
     ]
    }
   ],
   "source": [
    "for load in [1,3,5,7,9,11]:\n",
    "    custom_model = gensim.models.KeyedVectors.load_word2vec_format(PATH + 'custom.embeddings.{}'.format(load))\n",
    "    print('Loaded Gensim: {}'.format(load))\n",
    "    custom_models[load] = custom_model"
   ]
  },
  {
   "cell_type": "code",
   "execution_count": null,
   "metadata": {},
   "outputs": [],
   "source": []
  },
  {
   "cell_type": "code",
   "execution_count": 13,
   "metadata": {},
   "outputs": [
    {
     "name": "stdout",
     "output_type": "stream",
     "text": [
      "1 (0.094, 205, 2180, 3982)\n",
      "3 (0.1754, 475, 2708, 3982)\n",
      "5 (0.1702, 461, 2708, 3982)\n",
      "7 (0.1617, 459, 2839, 3982)\n",
      "9 (0.1997, 575, 2880, 3982)\n",
      "11 (0.2292, 660, 2880, 3982)\n"
     ]
    }
   ],
   "source": [
    "def test_model(model, num = 1000):\n",
    "    \n",
    "    total_num = 0\n",
    "    counter = 0\n",
    "    \n",
    "    start = 21000\n",
    "    \n",
    "    s = 2000\n",
    "\n",
    "    with open(PATH + 'test_vocabulary.txt') as f:\n",
    "        lines = f.readlines()\n",
    "        \n",
    "        test_arr = lines[s:s+num] + lines[start:]\n",
    "\n",
    "        for line in test_arr:\n",
    "            test_words = line[:-1].lower().split('\\t')\n",
    "            if test_words[0][0] == ':':\n",
    "                continue\n",
    "\n",
    "            w1, w2, w3, w4 = tuple(test_words)\n",
    "\n",
    "            if w1 in model and w2 in model and w3 in model and w4 in model:\n",
    "                \n",
    "                total_num += 1\n",
    "\n",
    "                result = model.most_similar(positive=[w1, w4], negative=[w3])\n",
    "\n",
    "                for r in result:\n",
    "                    if r[0] == w2:\n",
    "                        counter += 1\n",
    "                        break\n",
    "                    \n",
    "    return np.round(counter / total_num, 4), counter, total_num, len(test_arr)\n",
    "\n",
    "acc_result = []\n",
    "\n",
    "for test in [1,3,5,7,9,11]:\n",
    "    print(test, test_model(custom_models[test]))\n",
    "    acc_result.append((test, test_model(custom_models[test])))"
   ]
  },
  {
   "cell_type": "code",
   "execution_count": 14,
   "metadata": {},
   "outputs": [],
   "source": [
    "acc_eta = test_model(eta_model)"
   ]
  },
  {
   "cell_type": "code",
   "execution_count": 15,
   "metadata": {},
   "outputs": [
    {
     "data": {
      "text/plain": [
       "(0.6714, 2391, 3561, 3982)"
      ]
     },
     "execution_count": 15,
     "metadata": {},
     "output_type": "execute_result"
    }
   ],
   "source": [
    "acc_eta"
   ]
  },
  {
   "cell_type": "code",
   "execution_count": null,
   "metadata": {},
   "outputs": [],
   "source": []
  },
  {
   "cell_type": "code",
   "execution_count": 5,
   "metadata": {},
   "outputs": [],
   "source": []
  },
  {
   "cell_type": "code",
   "execution_count": null,
   "metadata": {},
   "outputs": [],
   "source": []
  }
 ],
 "metadata": {
  "kernelspec": {
   "display_name": "Python 3",
   "language": "python",
   "name": "python3"
  },
  "language_info": {
   "codemirror_mode": {
    "name": "ipython",
    "version": 3
   },
   "file_extension": ".py",
   "mimetype": "text/x-python",
   "name": "python",
   "nbconvert_exporter": "python",
   "pygments_lexer": "ipython3",
   "version": "3.7.1"
  }
 },
 "nbformat": 4,
 "nbformat_minor": 2
}
